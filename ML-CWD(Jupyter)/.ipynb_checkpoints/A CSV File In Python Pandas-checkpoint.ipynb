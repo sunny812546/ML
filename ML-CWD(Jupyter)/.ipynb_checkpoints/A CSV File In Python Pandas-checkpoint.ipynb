{
 "cells": [
  {
   "cell_type": "code",
   "execution_count": 1,
   "metadata": {},
   "outputs": [],
   "source": [
    "import pandas as pd"
   ]
  },
  {
   "cell_type": "code",
   "execution_count": 3,
   "metadata": {},
   "outputs": [],
   "source": [
    "db = pd.read_csv(\"F:\\data.csv\")"
   ]
  },
  {
   "cell_type": "code",
   "execution_count": 4,
   "metadata": {},
   "outputs": [
    {
     "data": {
      "text/html": [
       "<div>\n",
       "<style scoped>\n",
       "    .dataframe tbody tr th:only-of-type {\n",
       "        vertical-align: middle;\n",
       "    }\n",
       "\n",
       "    .dataframe tbody tr th {\n",
       "        vertical-align: top;\n",
       "    }\n",
       "\n",
       "    .dataframe thead th {\n",
       "        text-align: right;\n",
       "    }\n",
       "</style>\n",
       "<table border=\"1\" class=\"dataframe\">\n",
       "  <thead>\n",
       "    <tr style=\"text-align: right;\">\n",
       "      <th></th>\n",
       "      <th>Date</th>\n",
       "      <th>Symbol</th>\n",
       "      <th>Underlying Close Price (A)</th>\n",
       "      <th>Underlying Previous Day Close Price (B)</th>\n",
       "      <th>Underlying Log Returns (C) = LN(A/B)</th>\n",
       "      <th>Previous Day Underlying Volatility (D)</th>\n",
       "      <th>Current Day Underlying Daily Volatility (E) = Sqrt(0.94*D*D + 0.06*C*C)</th>\n",
       "      <th>Underlying Annualised Volatility (F) = E*Sqrt(365)</th>\n",
       "    </tr>\n",
       "  </thead>\n",
       "  <tbody>\n",
       "    <tr>\n",
       "      <th>0</th>\n",
       "      <td>11-MAY-2020</td>\n",
       "      <td>20MICRONS</td>\n",
       "      <td>26.50</td>\n",
       "      <td>26.70</td>\n",
       "      <td>-0.0075</td>\n",
       "      <td>0.0485</td>\n",
       "      <td>0.0471</td>\n",
       "      <td>0.8998</td>\n",
       "    </tr>\n",
       "    <tr>\n",
       "      <th>1</th>\n",
       "      <td>11-MAY-2020</td>\n",
       "      <td>21STCENMGM</td>\n",
       "      <td>10.81</td>\n",
       "      <td>11.02</td>\n",
       "      <td>-0.0192</td>\n",
       "      <td>0.0214</td>\n",
       "      <td>0.0213</td>\n",
       "      <td>0.4069</td>\n",
       "    </tr>\n",
       "    <tr>\n",
       "      <th>2</th>\n",
       "      <td>11-MAY-2020</td>\n",
       "      <td>3IINFOTECH</td>\n",
       "      <td>1.46</td>\n",
       "      <td>1.41</td>\n",
       "      <td>0.0348</td>\n",
       "      <td>0.0632</td>\n",
       "      <td>0.0619</td>\n",
       "      <td>1.1826</td>\n",
       "    </tr>\n",
       "    <tr>\n",
       "      <th>3</th>\n",
       "      <td>11-MAY-2020</td>\n",
       "      <td>3MINDIA</td>\n",
       "      <td>18179.40</td>\n",
       "      <td>18618.05</td>\n",
       "      <td>-0.0238</td>\n",
       "      <td>0.0285</td>\n",
       "      <td>0.0282</td>\n",
       "      <td>0.5388</td>\n",
       "    </tr>\n",
       "    <tr>\n",
       "      <th>4</th>\n",
       "      <td>11-MAY-2020</td>\n",
       "      <td>3PLAND</td>\n",
       "      <td>5.65</td>\n",
       "      <td>5.90</td>\n",
       "      <td>-0.0433</td>\n",
       "      <td>0.1045</td>\n",
       "      <td>0.1019</td>\n",
       "      <td>1.9468</td>\n",
       "    </tr>\n",
       "  </tbody>\n",
       "</table>\n",
       "</div>"
      ],
      "text/plain": [
       "          Date      Symbol Underlying Close Price (A)  \\\n",
       "0  11-MAY-2020   20MICRONS                      26.50   \n",
       "1  11-MAY-2020  21STCENMGM                      10.81   \n",
       "2  11-MAY-2020  3IINFOTECH                       1.46   \n",
       "3  11-MAY-2020     3MINDIA                   18179.40   \n",
       "4  11-MAY-2020      3PLAND                       5.65   \n",
       "\n",
       "  Underlying Previous Day Close Price (B)  \\\n",
       "0                                   26.70   \n",
       "1                                   11.02   \n",
       "2                                    1.41   \n",
       "3                                18618.05   \n",
       "4                                    5.90   \n",
       "\n",
       "  Underlying Log Returns (C) = LN(A/B) Previous Day Underlying Volatility (D)  \\\n",
       "0                              -0.0075                                 0.0485   \n",
       "1                              -0.0192                                 0.0214   \n",
       "2                               0.0348                                 0.0632   \n",
       "3                              -0.0238                                 0.0285   \n",
       "4                              -0.0433                                 0.1045   \n",
       "\n",
       "  Current Day Underlying Daily Volatility (E) = Sqrt(0.94*D*D + 0.06*C*C)  \\\n",
       "0                                             0.0471                        \n",
       "1                                             0.0213                        \n",
       "2                                             0.0619                        \n",
       "3                                             0.0282                        \n",
       "4                                             0.1019                        \n",
       "\n",
       "  Underlying Annualised Volatility (F) = E*Sqrt(365)  \n",
       "0                                             0.8998  \n",
       "1                                             0.4069  \n",
       "2                                             1.1826  \n",
       "3                                             0.5388  \n",
       "4                                             1.9468  "
      ]
     },
     "execution_count": 4,
     "metadata": {},
     "output_type": "execute_result"
    }
   ],
   "source": [
    "db.head()"
   ]
  },
  {
   "cell_type": "code",
   "execution_count": 7,
   "metadata": {},
   "outputs": [
    {
     "name": "stdout",
     "output_type": "stream",
     "text": [
      "object\n"
     ]
    }
   ],
   "source": [
    "print(db['Date'].dtype)"
   ]
  },
  {
   "cell_type": "code",
   "execution_count": 8,
   "metadata": {},
   "outputs": [
    {
     "name": "stdout",
     "output_type": "stream",
     "text": [
      "0       11-MAY-2020\n",
      "1       11-MAY-2020\n",
      "2       11-MAY-2020\n",
      "3       11-MAY-2020\n",
      "4       11-MAY-2020\n",
      "           ...     \n",
      "4092    11-MAY-2020\n",
      "4093    11-MAY-2020\n",
      "4094    11-MAY-2020\n",
      "4095    11-MAY-2020\n",
      "4096    11-MAY-2020\n",
      "Name: Date, Length: 4097, dtype: object\n"
     ]
    }
   ],
   "source": [
    "print(db['Date'])"
   ]
  },
  {
   "cell_type": "code",
   "execution_count": 9,
   "metadata": {},
   "outputs": [
    {
     "name": "stdout",
     "output_type": "stream",
     "text": [
      "0       11-MAY-2020\n",
      "1       11-MAY-2020\n",
      "2       11-MAY-2020\n",
      "3       11-MAY-2020\n",
      "4       11-MAY-2020\n",
      "           ...     \n",
      "4092    11-MAY-2020\n",
      "4093    11-MAY-2020\n",
      "4094    11-MAY-2020\n",
      "4095    11-MAY-2020\n",
      "4096    11-MAY-2020\n",
      "Name: Date, Length: 4097, dtype: category\n",
      "Categories (1, object): [11-MAY-2020]\n"
     ]
    }
   ],
   "source": [
    "print(db['Date'].astype('category'))"
   ]
  },
  {
   "cell_type": "code",
   "execution_count": null,
   "metadata": {},
   "outputs": [],
   "source": []
  }
 ],
 "metadata": {
  "kernelspec": {
   "display_name": "Python 3",
   "language": "python",
   "name": "python3"
  },
  "language_info": {
   "codemirror_mode": {
    "name": "ipython",
    "version": 3
   },
   "file_extension": ".py",
   "mimetype": "text/x-python",
   "name": "python",
   "nbconvert_exporter": "python",
   "pygments_lexer": "ipython3",
   "version": "3.7.4"
  }
 },
 "nbformat": 4,
 "nbformat_minor": 4
}
